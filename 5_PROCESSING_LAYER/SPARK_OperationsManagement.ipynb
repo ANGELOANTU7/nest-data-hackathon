{
 "cells": [
  {
   "cell_type": "code",
   "execution_count": 1,
   "id": "7544fdbd",
   "metadata": {},
   "outputs": [],
   "source": [
    "from pyspark.sql import SparkSession\n",
    "from pyspark.sql.types import *\n",
    "from pyspark.sql import Row"
   ]
  },
  {
   "cell_type": "code",
   "execution_count": 2,
   "id": "38d802d9",
   "metadata": {},
   "outputs": [],
   "source": [
    "spark = SparkSession.builder.appName(\"OPERATION-MANAGEMENT\").getOrCreate()\n"
   ]
  },
  {
   "cell_type": "code",
   "execution_count": 3,
   "id": "a5d394ab",
   "metadata": {},
   "outputs": [],
   "source": [
    "from pyspark.sql.functions import *\n",
    "\n",
    "df = spark.read.csv(\"../3_STORAGE_LAYER/DATALAKEHOUSE_BRONZE_LAYER/plantshift.csv\", header=True, inferSchema=True)\n",
    "\n",
    "df = df.select(\"Quantity\", \"Date\", \"Hour\", \"Bay\")\n",
    "\n",
    "# Extract the hour value from the Hour column and create a new column for it\n",
    "df = df.withColumn(\"hour\", substring(col(\"Hour\"), 0, 2))\n",
    "\n"
   ]
  },
  {
   "cell_type": "code",
   "execution_count": 4,
   "id": "b92c4157",
   "metadata": {},
   "outputs": [],
   "source": [
    "df = df.withColumnRenamed(\"Quantity\", \"Planned production\")\\\n",
    "        .withColumnRenamed(\"Date\", \"date\")\\\n",
    "        .withColumnRenamed(\"Bay\", \"lane values\")"
   ]
  },
  {
   "cell_type": "code",
   "execution_count": 5,
   "id": "431d6e89",
   "metadata": {},
   "outputs": [],
   "source": [
    "step1_df = df.select(\"Planned production\", \"date\", \"hour\", \"lane values\")\n"
   ]
  },
  {
   "cell_type": "code",
   "execution_count": 6,
   "id": "f65ae5ce",
   "metadata": {},
   "outputs": [
    {
     "name": "stdout",
     "output_type": "stream",
     "text": [
      "+------------------+-------------------+----+-----------+\n",
      "|Planned production|               date|hour|lane values|\n",
      "+------------------+-------------------+----+-----------+\n",
      "|                21|2022-06-01 00:00:00|  19|    EE-0001|\n",
      "|                21|2022-06-01 00:00:00|  19|    EE-0001|\n",
      "|                21|2022-06-01 00:00:00|  19|    EE-0001|\n",
      "|                21|2022-06-01 00:00:00|  19|    EE-0001|\n",
      "|                22|2022-06-01 00:00:00|  19|    EE-0001|\n",
      "|                22|2022-06-01 00:00:00|  19|    EE-0001|\n",
      "|                22|2022-06-01 00:00:00|  19|    EE-0001|\n",
      "|                22|2022-06-01 00:00:00|  19|    EE-0001|\n",
      "|                22|2022-06-01 00:00:00|  19|    EE-0001|\n",
      "|                21|2022-06-01 00:00:00|  19|    TS-0001|\n",
      "|                21|2022-06-01 00:00:00|  19|    TS-0001|\n",
      "|                21|2022-06-01 00:00:00|  19|    TS-0001|\n",
      "|                21|2022-06-01 00:00:00|  19|    TS-0001|\n",
      "|                21|2022-06-01 00:00:00|  19|    TS-0001|\n",
      "|                21|2022-06-01 00:00:00|  19|    TS-0001|\n",
      "|                21|2022-06-01 00:00:00|  19|    TS-0001|\n",
      "|                21|2022-06-01 00:00:00|  19|    TS-0001|\n",
      "|                22|2022-06-01 00:00:00|  19|    TS-0001|\n",
      "|                22|2022-06-01 00:00:00|  19|    TS-0001|\n",
      "|                43|2022-06-01 00:00:00|  19|    BC-0001|\n",
      "+------------------+-------------------+----+-----------+\n",
      "only showing top 20 rows\n",
      "\n"
     ]
    }
   ],
   "source": [
    "step1_df.show()\n"
   ]
  },
  {
   "cell_type": "code",
   "execution_count": 7,
   "id": "0d159b6d",
   "metadata": {},
   "outputs": [
    {
     "name": "stdout",
     "output_type": "stream",
     "text": [
      "['Id', 'Status', 'BoardId', 'BatchId', 'WorkOrderId', 'RoutingStageId', 'RoutingStageName', 'Operator', 'Deviation', 'InspectionDate', 'LastModifiedDate', 'ReInspectionNeeded', 'PreviouslySannedBoards', 'RoutingStatus', 'CavityID', 'SubWorkCenter', 'StationCode', 'StationName', 'TrayId', 'AssetSubNodeId', 'CollectionId', 'Company', 'Division', 'id', 'PlacementOpportunities', 'TerminationOpportunities', 'AssemblyOpportunities', 'ComponentOpportunities', 'UpperLimit', 'DisplayOrder', 'OperationNo', 'NextOperationNo', 'PreviousOperationNo', 'Name', 'EstimatedTime', 'OnlineInspection', 'ICTStage', 'ProcessCheck', 'QAPercentage', 'HasSA', 'saValidationMethod', 'Surface', 'InspectionMode', 'TrayReleasingStage', 'TimeLineStartStage', 'TimeLineActionMode', 'TimeLineActionInstance', 'AutoRejectLimit', 'ReRoutingActionStage', 'OfflineAction', 'OfflineProcessDuration', 'TimeLineDuration', 'PCBStarting', 'CleaningDelay', 'ReRoutingStage', 'AOIStage', 'IsMachineTraceabilityRequired', 'QaAfterRework', 'CustomerSerialNumberCheck', 'UsrLckOnError', 'IsOptionalStage', 'QASamplingMethod', 'QASamplingValueType', 'NoOfAllowedFailure', 'ReRoutingStageOnReWork', 'ReRoutingMethod', 'IsCheckListRequired', 'OutputQuantity', 'StartTime', 'EndTime', 'IdleTime', 'DelayTime', 'Started', 'EcnStage', 'PostedQuantity', 'StageStartTime', 'HaveDeviation', 'IsXmlExportRequired', 'XmlFilePath', 'IsWCQualifyReq', 'IsImeiNumberRequired', 'MSDDetails_Id', 'ReworkStationOnRework', 'ReworkStationDefect', 'ReworkOrDebugLimit', 'EDIReportRequired', 'EDIReportFormat', 'RecleaningAcceptLimit']\n",
      "['Division', 'BatchId', 'WorkOrderId', 'Company']\n",
      "77141 88\n"
     ]
    }
   ],
   "source": [
    "resultdf = spark.read.csv('../3_STORAGE_LAYER/DATALAKEHOUSE_BRONZE_LAYER/result.csv', header=True, inferSchema=True)\n",
    "routingdf = spark.read.csv('../3_STORAGE_LAYER/DATALAKEHOUSE_BRONZE_LAYER/routing1.csv', header=True, inferSchema=True)\n",
    "\n",
    "common_columns = set(resultdf.columns).intersection(routingdf.columns)\n",
    "common_columns = list(common_columns)\n",
    "routingdf= routingdf.drop(*common_columns)\n",
    "step2df = resultdf.join(routingdf, resultdf.RoutingStageId == routingdf.id, \"inner\")\n",
    "\n",
    "\n",
    "\n",
    "\n",
    "\n",
    "print(step2df.columns)\n",
    "print(common_columns)\n",
    "\n",
    "\n",
    "\n",
    "num_rows = step2df.count()\n",
    "num_cols = len(step2df.columns)\n",
    "print(num_rows,num_cols)\n"
   ]
  },
  {
   "cell_type": "code",
   "execution_count": 8,
   "id": "aefffc5b",
   "metadata": {},
   "outputs": [
    {
     "name": "stdout",
     "output_type": "stream",
     "text": [
      "[]\n"
     ]
    }
   ],
   "source": [
    "from pyspark.sql import functions as F\n",
    "\n",
    "workorderdf = spark.read.csv(\"../3_STORAGE_LAYER/DATALAKEHOUSE_BRONZE_LAYER/workorder.csv\", header=True, inferSchema=True)\n",
    "\n",
    "workorderdf = workorderdf.withColumnRenamed(\"Id\", \"Id_x\")\n",
    "# find common columns\n",
    "workorder_columns = workorderdf.columns\n",
    "step2_columns = step2df.columns\n",
    "common_columns = list(set(workorder_columns).intersection(step2_columns))\n",
    "print(common_columns)\n",
    "workorderdf= workorderdf.drop(*common_columns)\n",
    "\n",
    "\n",
    "\n",
    "\n",
    "# join dataframes\n",
    "step3df = step2df.join(workorderdf, step2df.WorkOrderId == workorderdf.Id_x, \"left\")\n",
    "step3df=step3df.drop(\"Id_x\")\n",
    "\n",
    "\n",
    "# filter by Surface\n",
    "step3df = step3df.filter(step3df[\"Surface\"] == 1)"
   ]
  },
  {
   "cell_type": "code",
   "execution_count": 9,
   "id": "8b2944e2",
   "metadata": {},
   "outputs": [
    {
     "name": "stdout",
     "output_type": "stream",
     "text": [
      "55149 119\n",
      "+-----+------+--------------------+--------------------+-----------+--------------------+--------------------+--------+---------+-------------------+-------------------+------------------+----------------------+-------------+--------+-------------+-----------+-----------+------+--------------+------------+-------+--------+--------------------+----------------------+------------------------+---------------------+----------------------+----------+------------+-----------+---------------+-------------------+--------------------+-------------+----------------+--------+------------+------------+-----+------------------+-------+--------------+------------------+------------------+------------------+----------------------+---------------+--------------------+-------------+----------------------+----------------+-----------+-------------+--------------+--------+-----------------------------+-------------+-------------------------+-------------+---------------+----------------+-------------------+------------------+----------------------+---------------+-------------------+--------------+-------------------+-------+--------+---------+-------+--------+--------------+-------------------+-------------+-------------------+-----------+--------------+--------------------+-------------+---------------------+-------------------+------------------+-----------------+---------------+---------------------+--------------------+--------+--------------------+-------------+---------+--------------+-----------+--------+--------+-----------+-----------+--------------+----------+---------------+------------------+---------------+-----------+-----------+----------+-------------+------+------+---------------------+------------------+-------------------+-----------------------+----------+------------------+-------------+-------+------------+\n",
      "|   Id|Status|             BoardId|             BatchId|WorkOrderId|      RoutingStageId|    RoutingStageName|Operator|Deviation|     InspectionDate|   LastModifiedDate|ReInspectionNeeded|PreviouslySannedBoards|RoutingStatus|CavityID|SubWorkCenter|StationCode|StationName|TrayId|AssetSubNodeId|CollectionId|Company|Division|                  id|PlacementOpportunities|TerminationOpportunities|AssemblyOpportunities|ComponentOpportunities|UpperLimit|DisplayOrder|OperationNo|NextOperationNo|PreviousOperationNo|                Name|EstimatedTime|OnlineInspection|ICTStage|ProcessCheck|QAPercentage|HasSA|saValidationMethod|Surface|InspectionMode|TrayReleasingStage|TimeLineStartStage|TimeLineActionMode|TimeLineActionInstance|AutoRejectLimit|ReRoutingActionStage|OfflineAction|OfflineProcessDuration|TimeLineDuration|PCBStarting|CleaningDelay|ReRoutingStage|AOIStage|IsMachineTraceabilityRequired|QaAfterRework|CustomerSerialNumberCheck|UsrLckOnError|IsOptionalStage|QASamplingMethod|QASamplingValueType|NoOfAllowedFailure|ReRoutingStageOnReWork|ReRoutingMethod|IsCheckListRequired|OutputQuantity|          StartTime|EndTime|IdleTime|DelayTime|Started|EcnStage|PostedQuantity|     StageStartTime|HaveDeviation|IsXmlExportRequired|XmlFilePath|IsWCQualifyReq|IsImeiNumberRequired|MSDDetails_Id|ReworkStationOnRework|ReworkStationDefect|ReworkOrDebugLimit|EDIReportRequired|EDIReportFormat|RecleaningAcceptLimit|              ItemId|Line No_|    Registering Date|Location Code|Zone Code|      Bin Code|Description|Item No_|Quantity|Qty_ (Base)|Source Type|Source Subtype|Source No_|Source Line No_|Source Subline No_|Source Document|Source Code|Reason Code|No_ Series|Bin Type Code|Cubage|Weight|Journal Template Name|Whse_ Document No_|Whse_ Document Type|Whse_ Document Line No_|Entry Type|Reference Document|Reference No_|User ID|Variant Code|\n",
      "+-----+------+--------------------+--------------------+-----------+--------------------+--------------------+--------+---------+-------------------+-------------------+------------------+----------------------+-------------+--------+-------------+-----------+-----------+------+--------------+------------+-------+--------+--------------------+----------------------+------------------------+---------------------+----------------------+----------+------------+-----------+---------------+-------------------+--------------------+-------------+----------------+--------+------------+------------+-----+------------------+-------+--------------+------------------+------------------+------------------+----------------------+---------------+--------------------+-------------+----------------------+----------------+-----------+-------------+--------------+--------+-----------------------------+-------------+-------------------------+-------------+---------------+----------------+-------------------+------------------+----------------------+---------------+-------------------+--------------+-------------------+-------+--------+---------+-------+--------+--------------+-------------------+-------------+-------------------+-----------+--------------+--------------------+-------------+---------------------+-------------------+------------------+-----------------+---------------+---------------------+--------------------+--------+--------------------+-------------+---------+--------------+-----------+--------+--------+-----------+-----------+--------------+----------+---------------+------------------+---------------+-----------+-----------+----------+-------------+------+------+---------------------+------------------+-------------------+-----------------------+----------+------------------+-------------+-------+------------+\n",
      "|63732|     0|W-102418B-1314140...|W-102418B-1314140...|   W-102418|W-102418B-1314140...|W-102418B-1314140...| SBAgent|      0.0|2022-06-08 19:12:00|2022-06-08 19:12:00|               0.0|                  null|          0.0|     0.0|      SB-0001|       null|       null|  null|          null|        null|   null|    null|W-102418B-1314140...|                     0|                       0|                    0|                     0|         0|          13|         13|             14|                 12|S0JKNOTRORIIZ3PW1...|            1|               1|       0|           0|           0|    0|                 0|      1|             0|                 0|              null|                 0|                  null|              0|                null|            0|                     0|               0|          0|            0|          null|       0|                            0|            0|                        0|            0|              0|             1.0|                2.0|              null|                   0.0|           null|                  0|             0|2022-06-08 19:12:00|   null|       0|        0|      1|       0|             0|2022-06-08 19:12:00|            0|                  0|       null|             0|                   0|         null|                    0|               null|                 0|                0|              0|                 null|Items-SB-04583531-US|      10|Items-SB-04583531-US|          219|        0|8/6/2022 13:00|       null|    null|    null|       null|       null|          null|      null|            0.0|              null|           null|        1.0|        1.0|    4510.0|         null|  null|  null|                 2979|            2979.0|                  0|                    0.0|       0.0|                92|         null|   null|        null|\n",
      "|63894|     0|W-102418B-1974212...|W-102418B-1974212...|   W-102418|W-102418B-1974212...|W-102418B-1974212...| SBAgent|      0.0|2022-06-09 04:32:00|2022-06-09 04:32:00|               0.0|                  null|          0.0|     0.0|      SB-0001|       null|       null|  null|          null|        null|   null|    null|W-102418B-1974212...|                     0|                       0|                    0|                     0|         0|          51|         51|             52|                 50|A8E2CVWJ8Z0SVN9TU...|            1|               1|       0|           0|           0|    0|                 0|      1|             0|                 0|              null|                 0|                  null|              0|                null|            0|                     0|               0|          0|            0|          null|       0|                            1|            0|                        0|            0|              0|            null|               null|              null|                  null|           null|                  0|             0|2022-06-09 04:32:00|   null|       0|        0|      1|       0|             0|2022-06-09 04:32:00|            0|                  0|       null|             0|                   0|         null|                    0|               null|                 0|                0|              0|                 null|Items-SB-04583531-US|      10|Items-SB-04583531-US|          219|        0|8/6/2022 13:00|       null|    null|    null|       null|       null|          null|      null|            0.0|              null|           null|        1.0|        1.0|    4510.0|         null|  null|  null|                 2979|            2979.0|                  0|                    0.0|       0.0|                92|         null|   null|        null|\n",
      "|63740|     0|W-102418B-2165933...|W-102418B-2165933...|   W-102418|W-102418B-2165933...|W-102418B-2165933...| SBAgent|      0.0|2022-06-08 20:32:00|2022-06-08 20:32:00|               0.0|                  null|          0.0|     0.0|      SB-0001|       null|       null|  null|          null|        null|   null|    null|W-102418B-2165933...|                     0|                       0|                    0|                     0|         0|          21|         21|             22|                 20|HHCXW5MUFHXUA3OA7...|            1|               1|       0|           0|          10|    0|                 0|      1|             0|                 0|              null|                 0|                  null|              0|                null|            0|                     0|               0|          0|            0|          null|       0|                            0|            0|                        0|            0|              0|             1.0|               null|              null|                  null|           null|                  0|             0|2022-06-08 20:32:00|   null|       0|        0|      1|       0|             0|2022-06-08 20:32:00|            0|                  0|       null|             0|                   0|         null|                    0|               null|                 0|                0|              0|                 null|Items-SB-04583531-US|      10|Items-SB-04583531-US|          219|        0|8/6/2022 13:00|       null|    null|    null|       null|       null|          null|      null|            0.0|              null|           null|        1.0|        1.0|    4510.0|         null|  null|  null|                 2979|            2979.0|                  0|                    0.0|       0.0|                92|         null|   null|        null|\n",
      "|63881|     0|W-102418B-2323045...|W-102418B-2323045...|   W-102418|W-102418B-2323045...|W-102418B-2323045...| SBAgent|      0.0|2022-06-09 02:22:00|2022-06-09 02:22:00|               0.0|                  null|          0.0|     0.0|      SB-0001|       null|       null|  null|          null|        null|   null|    null|W-102418B-2323045...|                     0|                       0|                    1|                     0|         0|          38|         38|             39|                 37|AED5OWRHMU14O4VRX...|            1|               1|       0|           0|           0|    0|                 0|      1|             0|                 0|              null|                 0|                  null|              0|                null|            0|                     0|               0|          0|            0|          null|       0|                            1|            0|                        0|            0|              0|            null|                0.0|              null|                  null|           null|                  0|             0|2022-06-09 02:22:00|   null|       0|        0|      0|       0|             0|2022-06-09 02:22:00|            0|                  0|       null|             0|                   0|         null|                    0|               null|                 0|                0|              0|                 null|Items-SB-04583531-US|      10|Items-SB-04583531-US|          219|        0|8/6/2022 13:00|       null|    null|    null|       null|       null|          null|      null|            0.0|              null|           null|        1.0|        1.0|    4510.0|         null|  null|  null|                 2979|            2979.0|                  0|                    0.0|       0.0|                92|         null|   null|        null|\n",
      "|63720|     0|W-102418B-3805710...|W-102418B-3805710...|   W-102418|W-102418B-3805710...|W-102418B-3805710...| SBAgent|      0.0|2022-06-08 17:12:00|2022-06-08 17:12:00|               0.0|                  null|          0.0|     0.0|      SB-0001|       null|       null|  null|          null|        null|   null|    null|W-102418B-3805710...|                     0|                       0|                    0|                     0|         0|           1|          1|              2|                  0|87DE470DM1XFKGIX9...|            1|               1|       0|           0|           0|    0|                 0|      1|             0|                 0|              null|                 0|                  null|              0|                null|            0|                     0|               0|          0|            0|          null|       0|                            0|            0|                        0|            0|              0|            null|               null|              null|                  null|           null|                  0|             0|2022-06-08 17:12:00|   null|       0|        0|      0|       0|             0|2022-06-08 17:12:00|            0|                  0|       null|             0|                   0|         null|                    0|               null|                 0|                0|              0|                 null|Items-SB-04583531-US|      10|Items-SB-04583531-US|          219|        0|8/6/2022 13:00|       null|    null|    null|       null|       null|          null|      null|            0.0|              null|           null|        1.0|        1.0|    4510.0|         null|  null|  null|                 2979|            2979.0|                  0|                    0.0|       0.0|                92|         null|   null|        null|\n",
      "|63735|     0|W-102418B-4465318...|W-102418B-4465318...|   W-102418|W-102418B-4465318...|W-102418B-4465318...| SBAgent|      0.0|2022-06-08 19:42:00|2022-06-08 19:42:00|               0.0|                  null|          0.0|     0.0|      SB-0001|       null|       null|  null|          null|        null|   null|    null|W-102418B-4465318...|                     0|                       0|                    0|                     0|         0|          16|         16|             17|                 15|KS6SEXLYZ8FFH43WB...|            1|               1|       0|           0|          10|    0|                 0|      1|             0|                 0|              null|                 0|                  null|              0|                null|            0|                     0|               0|          0|            0|          null|       0|                            0|            0|                        0|            0|              0|             1.0|                0.0|              null|                  null|           null|                  0|             0|2022-06-08 19:42:00|   null|       0|        0|      1|       0|             0|2022-06-08 19:42:00|            0|                  0|       null|             0|                   0|         null|                    0|               null|                 0|                0|              0|                 null|Items-SB-04583531-US|      10|Items-SB-04583531-US|          219|        0|8/6/2022 13:00|       null|    null|    null|       null|       null|          null|      null|            0.0|              null|           null|        1.0|        1.0|    4510.0|         null|  null|  null|                 2979|            2979.0|                  0|                    0.0|       0.0|                92|         null|   null|        null|\n",
      "|63824|     0|W-102418B-4489196...|W-102418B-4489196...|   W-102418|W-102418B-4489196...|W-102418B-4489196...| SBAgent|      0.0|2022-06-08 19:12:00|2022-06-08 19:12:00|               0.0|                  null|          0.0|     0.0|      SB-0001|       null|       null|  null|          null|        null|   null|    null|W-102418B-4489196...|                     0|                       0|                    1|                     0|         0|          43|         43|             44|                 42|7M7P138EUW5S9O9WP...|            1|               1|       0|           0|           0|    0|                 0|      1|             0|                 0|              null|                 0|                  null|              0|                null|            0|                     0|               0|          0|            0|          null|       0|                            1|            0|                        0|            0|              1|             1.0|               null|              null|                  null|           null|                  0|             0|2022-06-08 19:12:00|   null|       0|        0|      0|       0|             0|2022-06-08 19:12:00|            0|                  0|       null|             0|                   0|         null|                    0|               null|                 0|                0|              0|                 null|Items-SB-04583531-US|      10|Items-SB-04583531-US|          219|        0|8/6/2022 13:00|       null|    null|    null|       null|       null|          null|      null|            0.0|              null|           null|        1.0|        1.0|    4510.0|         null|  null|  null|                 2979|            2979.0|                  0|                    0.0|       0.0|                92|         null|   null|        null|\n",
      "|63821|     0|W-102418B-4967420...|W-102418B-4967420...|   W-102418|W-102418B-4967420...|W-102418B-4967420...| SBAgent|      0.0|2022-06-08 18:42:00|2022-06-08 18:42:00|               0.0|                  null|          0.0|     0.0|      SB-0001|       null|       null|  null|          null|        null|   null|    null|W-102418B-4967420...|                     0|                       0|                    1|                     0|         0|          40|         40|             41|                 39|4YO91UBSK6LD25WI3...|            1|               1|       0|           0|           0|    0|                 0|      1|             0|                 0|              null|                 0|                  null|              0|                null|            0|                     0|               0|          0|            0|          null|       0|                            1|            0|                        0|            0|              1|             1.0|               null|              null|                  null|           null|                  0|             0|2022-06-08 18:42:00|   null|       0|        0|      1|       0|             0|2022-06-08 18:42:00|            0|                  0|       null|             0|                   0|         null|                    0|               null|                 0|                0|              0|                 null|Items-SB-04583531-US|      10|Items-SB-04583531-US|          219|        0|8/6/2022 13:00|       null|    null|    null|       null|       null|          null|      null|            0.0|              null|           null|        1.0|        1.0|    4510.0|         null|  null|  null|                 2979|            2979.0|                  0|                    0.0|       0.0|                92|         null|   null|        null|\n",
      "|63892|     0|W-102418B-5357240...|W-102418B-5357240946|   W-102418|W-102418B-5357240946|W-102418B-5357240946| SBAgent|      0.0|2022-06-09 04:12:00|2022-06-09 04:12:00|               0.0|                  null|          0.0|     0.0|      SB-0001|       null|       null|  null|          null|        null|   null|    null|W-102418B-5357240946|                     0|                       0|                    1|                     0|         0|          49|         49|             50|                 48|IG7RQBJTKHNPW6QMT...|            1|               1|       0|           0|          10|    0|                 0|      1|             0|                 0|              null|                 0|                  null|              0|                null|            0|                     0|               0|          0|            0|          null|       0|                            1|            0|                        0|            0|              0|            null|               null|              null|                  null|           null|                  0|             0|2022-06-09 04:12:00|   null|       0|        0|      1|       0|             0|2022-06-09 04:12:00|            0|                  0|       null|             0|                   0|         null|                    0|               null|                 0|                0|              0|                 null|Items-SB-04583531-US|      10|Items-SB-04583531-US|          219|        0|8/6/2022 13:00|       null|    null|    null|       null|       null|          null|      null|            0.0|              null|           null|        1.0|        1.0|    4510.0|         null|  null|  null|                 2979|            2979.0|                  0|                    0.0|       0.0|                92|         null|   null|        null|\n",
      "|63771|     0|W-102418B-5504786...|W-102418B-5504786...|   W-102418|W-102418B-5504786...|W-102418B-5504786...| SBAgent|      0.0|2022-06-09 01:42:00|2022-06-09 01:42:00|               0.0|                  null|          0.0|     0.0|      SB-0001|       null|       null|  null|          null|        null|   null|    null|W-102418B-5504786...|                     0|                       0|                    1|                     0|         0|          52|         52|             53|                 51|08VE09FS8KMIY3WIE...|            1|               1|       0|           0|          10|    0|                 0|      1|             0|                 0|              null|                 0|                  null|              0|                null|            0|                     0|               0|          0|            0|          null|       0|                            0|            0|                        0|            0|              0|            null|                0.0|              null|                  null|           null|                  0|             0|2022-06-09 01:42:00|   null|       0|        0|      1|       0|             0|2022-06-09 01:42:00|            0|                  0|       null|             0|                   0|         null|                    0|               null|                 0|                0|              0|                 null|Items-SB-04583531-US|      10|Items-SB-04583531-US|          219|        0|8/6/2022 13:00|       null|    null|    null|       null|       null|          null|      null|            0.0|              null|           null|        1.0|        1.0|    4510.0|         null|  null|  null|                 2979|            2979.0|                  0|                    0.0|       0.0|                92|         null|   null|        null|\n",
      "|63891|     0|W-102418B-6133456...|W-102418B-6133456...|   W-102418|W-102418B-6133456...|W-102418B-6133456...| SBAgent|      0.0|2022-06-09 04:02:00|2022-06-09 04:02:00|               0.0|                  null|          0.0|     0.0|      SB-0001|       null|       null|  null|          null|        null|   null|    null|W-102418B-6133456...|                     0|                       0|                    1|                     0|         0|          48|         48|             49|                 47|JUESASY8OJGZ1KB01...|            1|               1|       0|           0|           0|    0|                 0|      1|             0|                 0|              null|                 0|                  null|              0|                null|            0|                     0|               0|          0|            0|          null|       0|                            1|            0|                        0|            0|              0|             0.0|               null|              null|                  null|            0.0|                  0|             0|2022-06-09 04:02:00|   null|       0|        0|      1|       0|             0|2022-06-09 04:02:00|            0|                  0|       null|             0|                   0|         null|                    0|               null|                 0|                0|              0|                 null|Items-SB-04583531-US|      10|Items-SB-04583531-US|          219|        0|8/6/2022 13:00|       null|    null|    null|       null|       null|          null|      null|            0.0|              null|           null|        1.0|        1.0|    4510.0|         null|  null|  null|                 2979|            2979.0|                  0|                    0.0|       0.0|                92|         null|   null|        null|\n",
      "|63895|     0|W-102418B-6990312...|W-102418B-6990312...|   W-102418|W-102418B-6990312...|W-102418B-6990312...| SBAgent|      0.0|2022-06-09 04:42:00|2022-06-09 04:42:00|               0.0|                  null|          0.0|     0.0|      SB-0001|       null|       null|  null|          null|        null|   null|    null|W-102418B-6990312...|                     0|                       0|                    1|                     0|         0|          52|         52|             53|                 51|LJKY1B1N40INFX80E...|            0|               1|       0|           0|          10|    0|                 0|      1|             0|                 0|              null|                 0|                  null|              0|                null|            0|                     0|               0|          0|            0|          null|       0|                            1|            0|                        0|            0|              0|             1.0|                2.0|              null|                  null|           null|                  0|             0|2022-06-09 04:42:00|   null|       0|        0|      1|       0|             0|2022-06-09 04:42:00|            0|                  0|       null|             0|                   0|         null|                    0|               null|                 0|                0|              0|                 null|Items-SB-04583531-US|      10|Items-SB-04583531-US|          219|        0|8/6/2022 13:00|       null|    null|    null|       null|       null|          null|      null|            0.0|              null|           null|        1.0|        1.0|    4510.0|         null|  null|  null|                 2979|            2979.0|                  0|                    0.0|       0.0|                92|         null|   null|        null|\n",
      "|63814|     0|W-102418B-7047877...|W-102418B-7047877478|   W-102418|W-102418B-7047877478|W-102418B-7047877478| SBAgent|      0.0|2022-06-08 17:32:00|2022-06-08 17:32:00|               0.0|                  null|          0.0|     0.0|      SB-0001|       null|       null|  null|          null|        null|   null|    null|W-102418B-7047877478|                     0|                       0|                    1|                     0|         0|          33|         33|             34|                 32|XTDRF6JXY6F9O0TZ4...|            1|               1|       0|           0|           0|    0|                 0|      1|             0|                 0|              null|                 0|                  null|              0|                null|            0|                     0|               0|          0|            0|          null|       0|                            1|            0|                        0|            0|              0|             1.0|               null|              null|                  null|            0.0|                  0|             0|2022-06-08 17:32:00|   null|       0|        0|      1|       0|             0|2022-06-08 17:32:00|            0|                  0|       null|             0|                   0|         null|                    0|               null|                 0|                0|              0|                 null|Items-SB-04583531-US|      10|Items-SB-04583531-US|          219|        0|8/6/2022 13:00|       null|    null|    null|       null|       null|          null|      null|            0.0|              null|           null|        1.0|        1.0|    4510.0|         null|  null|  null|                 2979|            2979.0|                  0|                    0.0|       0.0|                92|         null|   null|        null|\n",
      "|63788|     0|W-102418B-8104356...|W-102418B-8104356...|   W-102418|W-102418B-8104356...|W-102418B-8104356...| SBAgent|      0.0|2022-06-08 13:12:00|2022-06-08 13:12:00|               0.0|                  null|          0.0|     0.0|      SB-0001|       null|       null|  null|          null|        null|   null|    null|W-102418B-8104356...|                     0|                       0|                    1|                     0|         0|           7|          7|              8|                  6|S3HBPARZCWUJNZFLQ...|            1|               1|       0|           0|           0|    0|                 0|      1|             0|                 0|              null|                 0|                  null|              0|                null|            0|                     0|               0|          0|            0|          null|       0|                            1|            0|                        0|            0|              0|            null|               null|              null|                   0.0|           null|                  0|             0|2022-06-08 13:12:00|   null|       0|        0|      0|       0|             0|2022-06-08 13:12:00|            0|                  0|       null|             0|                   0|         null|                    0|               null|                 0|                0|              0|                 null|Items-SB-04583531-US|      10|Items-SB-04583531-US|          219|        0|8/6/2022 13:00|       null|    null|    null|       null|       null|          null|      null|            0.0|              null|           null|        1.0|        1.0|    4510.0|         null|  null|  null|                 2979|            2979.0|                  0|                    0.0|       0.0|                92|         null|   null|        null|\n",
      "|63750|     0|W-102418B-8958565...|W-102418B-8958565...|   W-102418|W-102418B-8958565...|W-102418B-8958565...| SBAgent|      0.0|2022-06-08 22:12:00|2022-06-08 22:12:00|               0.0|                  null|          0.0|     0.0|      SB-0001|       null|       null|  null|          null|        null|   null|    null|W-102418B-8958565...|                     0|                       0|                    1|                     0|         0|          31|         31|             32|                 30|KDMR3EM1ZYRJOMAVS...|            1|               1|       0|           0|          10|    0|                 0|      1|             0|                 0|              null|                 0|                  null|              0|                null|            0|                     0|               0|          0|            0|          null|       0|                            1|            0|                        0|            0|              0|            null|                0.0|              null|                  null|           null|                  0|             0|2022-06-08 22:12:00|   null|       0|        0|      1|       0|             0|2022-06-08 22:12:00|            0|                  0|       null|             0|                   0|         null|                    0|               null|                 0|                0|              0|                 null|Items-SB-04583531-US|      10|Items-SB-04583531-US|          219|        0|8/6/2022 13:00|       null|    null|    null|       null|       null|          null|      null|            0.0|              null|           null|        1.0|        1.0|    4510.0|         null|  null|  null|                 2979|            2979.0|                  0|                    0.0|       0.0|                92|         null|   null|        null|\n",
      "|35214|     0|W-102715B-0143430...|W-102715B-0143430792|   W-102715|W-102715B-0143430792|W-102715B-0143430792| EPAgent|      0.0|2022-06-05 20:22:00|2022-06-05 20:22:00|               0.0|                  null|          0.0|     0.0|      EP-0001|       null|       null|  null|          null|        null|   null|    null|W-102715B-0143430792|                     0|                       0|                    0|                     0|         0|           8|          8|              9|                  7|NX87CRY4Z8XAMMUCW...|            1|               1|       0|           0|          10|    0|                 0|      1|             0|                 0|              null|                 0|                  null|              0|                null|            0|                     0|               0|          0|            0|          null|       0|                            0|            0|                        0|            0|              0|             0.0|                2.0|              null|                  null|            0.0|                  0|             0|2022-06-05 20:22:00|   null|       0|        0|      1|       0|             0|2022-06-05 20:22:00|            0|                  0|       null|             0|                   0|         null|                    0|               null|                 0|                0|              0|                 null|Items-EP-06020496-CH|      10|Items-EP-06020496-CH|          213|        0|5/6/2022 18:00|       null|    null|    null|       null|       null|          null|      null|            0.0|              null|           null|        1.0|        0.0|    3681.0|         null|  null|  null|                 null|              null|                  1|                    0.0|       0.0|               961|         null|   null|        null|\n",
      "|35159|     0|W-102715B-0739600...|W-102715B-0739600812|   W-102715|W-102715B-0739600812|W-102715B-0739600812| EPAgent|      0.0|2022-06-05 19:22:00|2022-06-05 19:22:00|               0.0|                  null|          0.0|     0.0|      EP-0001|       null|       null|  null|          null|        null|   null|    null|W-102715B-0739600812|                     0|                       0|                    1|                     0|         0|           2|          2|              3|                  1|UTW4LK5OM9HS1N5QK...|            0|               1|       0|           0|          10|    0|                 0|      1|             0|                 0|              null|                 0|                  null|              0|                null|            0|                     0|               0|          0|            0|          null|       0|                            0|            0|                        0|            0|              1|            null|                0.0|              null|                   0.0|           null|                  0|             0|2022-06-05 19:22:00|   null|       0|        0|      1|       0|             0|2022-06-05 19:22:00|            0|                  0|       null|             0|                   0|         null|                    0|               null|                 0|                0|              0|                 null|Items-EP-06020496-CH|      10|Items-EP-06020496-CH|          213|        0|5/6/2022 18:00|       null|    null|    null|       null|       null|          null|      null|            0.0|              null|           null|        1.0|        0.0|    3681.0|         null|  null|  null|                 null|              null|                  1|                    0.0|       0.0|               961|         null|   null|        null|\n",
      "|35235|     0|W-102715B-1190040...|W-102715B-1190040...|   W-102715|W-102715B-1190040...|W-102715B-1190040...| EPAgent|      0.0|2022-06-05 23:52:00|2022-06-05 23:52:00|               0.0|                  null|          0.0|     0.0|      EP-0001|       null|       null|  null|          null|        null|   null|    null|W-102715B-1190040...|                     0|                       0|                    1|                     0|         0|          29|         29|             30|                 28|WAJN42T2U9XUL3IPC...|            1|               1|       0|           0|           0|    0|                 0|      1|             0|                 0|              null|                 0|                  null|              0|                null|            0|                     0|               0|          0|            0|          null|       0|                            0|            0|                        0|            0|              0|             0.0|                2.0|              null|                   0.0|            0.0|                  0|             0|2022-06-05 23:52:00|   null|       0|        0|      0|       0|             0|2022-06-05 23:52:00|            0|                  0|       null|             0|                   0|         null|                    0|               null|                 0|                0|              0|                 null|Items-EP-06020496-CH|      10|Items-EP-06020496-CH|          213|        0|5/6/2022 18:00|       null|    null|    null|       null|       null|          null|      null|            0.0|              null|           null|        1.0|        0.0|    3681.0|         null|  null|  null|                 null|              null|                  1|                    0.0|       0.0|               961|         null|   null|        null|\n",
      "|35192|     0|W-102715B-2505403...|W-102715B-2505403...|   W-102715|W-102715B-2505403...|W-102715B-2505403...| EPAgent|      0.0|2022-06-06 00:52:00|2022-06-06 00:52:00|               0.0|                  null|          0.0|     0.0|      EP-0001|       null|       null|  null|          null|        null|   null|    null|W-102715B-2505403...|                     0|                       0|                    1|                     0|         0|          35|         35|             36|                 34|GB7XDA5MWJO1EVNLS...|            1|               1|       0|           0|           0|    0|                 0|      1|             0|                 0|              null|                 0|                  null|              0|                null|            0|                     0|               0|          0|            0|          null|       0|                            0|            0|                        0|            0|              0|            null|               null|              null|                  null|           null|                  0|             0|2022-06-06 00:52:00|   null|       0|        0|      0|       0|             0|2022-06-06 00:52:00|            0|                  0|       null|             0|                   0|         null|                    0|               null|                 0|                0|              0|                 null|Items-EP-06020496-CH|      10|Items-EP-06020496-CH|          213|        0|5/6/2022 18:00|       null|    null|    null|       null|       null|          null|      null|            0.0|              null|           null|        1.0|        0.0|    3681.0|         null|  null|  null|                 null|              null|                  1|                    0.0|       0.0|               961|         null|   null|        null|\n",
      "|35229|     0|W-102715B-2660830...|W-102715B-2660830...|   W-102715|W-102715B-2660830...|W-102715B-2660830...| EPAgent|      0.0|2022-06-05 22:52:00|2022-06-05 22:52:00|               0.0|                  null|          0.0|     0.0|      EP-0001|       null|       null|  null|          null|        null|   null|    null|W-102715B-2660830...|                     0|                       0|                    0|                     0|         0|          23|         23|             24|                 22|M17ETTN0HU4FWJPYG...|            1|               1|       0|           0|          10|    0|                 0|      1|             0|                 0|              null|                 0|                  null|              0|                null|            0|                     0|               0|          0|            0|          null|       0|                            0|            0|                        0|            0|              0|             1.0|                0.0|              null|                  null|            0.0|                  0|             0|2022-06-05 22:52:00|   null|       0|        0|      1|       0|             0|2022-06-05 22:52:00|            0|                  0|       null|             0|                   0|         null|                    0|               null|                 0|                0|              0|                 null|Items-EP-06020496-CH|      10|Items-EP-06020496-CH|          213|        0|5/6/2022 18:00|       null|    null|    null|       null|       null|          null|      null|            0.0|              null|           null|        1.0|        0.0|    3681.0|         null|  null|  null|                 null|              null|                  1|                    0.0|       0.0|               961|         null|   null|        null|\n",
      "+-----+------+--------------------+--------------------+-----------+--------------------+--------------------+--------+---------+-------------------+-------------------+------------------+----------------------+-------------+--------+-------------+-----------+-----------+------+--------------+------------+-------+--------+--------------------+----------------------+------------------------+---------------------+----------------------+----------+------------+-----------+---------------+-------------------+--------------------+-------------+----------------+--------+------------+------------+-----+------------------+-------+--------------+------------------+------------------+------------------+----------------------+---------------+--------------------+-------------+----------------------+----------------+-----------+-------------+--------------+--------+-----------------------------+-------------+-------------------------+-------------+---------------+----------------+-------------------+------------------+----------------------+---------------+-------------------+--------------+-------------------+-------+--------+---------+-------+--------+--------------+-------------------+-------------+-------------------+-----------+--------------+--------------------+-------------+---------------------+-------------------+------------------+-----------------+---------------+---------------------+--------------------+--------+--------------------+-------------+---------+--------------+-----------+--------+--------+-----------+-----------+--------------+----------+---------------+------------------+---------------+-----------+-----------+----------+-------------+------+------+---------------------+------------------+-------------------+-----------------------+----------+------------------+-------------+-------+------------+\n",
      "only showing top 20 rows\n",
      "\n"
     ]
    }
   ],
   "source": [
    "num_rows = step3df.count()\n",
    "num_cols = len(step3df.columns)\n",
    "print(num_rows,num_cols)\n",
    "step3df.show()"
   ]
  },
  {
   "cell_type": "code",
   "execution_count": 10,
   "id": "cf66fcba",
   "metadata": {},
   "outputs": [],
   "source": [
    "from pyspark.sql import functions as F\n",
    "\n",
    "# Convert the \"LastModifiedDate\" column to timestamp type\n",
    "step3df = step3df.withColumn(\"LastModifiedDate\", F.to_timestamp(\"LastModifiedDate\", \"yyyy-MM-dd HH:mm:ss\"))\n",
    "\n",
    "# Extract hour and day from the timestamp and add them as new columns\n",
    "step3df = step3df.withColumn(\"LastModifiedDate_Hour\", F.hour(\"LastModifiedDate\"))\n",
    "step3df = step3df.withColumn(\"LastModifiedDate_Date\", F.dayofmonth(\"LastModifiedDate\"))\n",
    "\n",
    "# Groupby ItemId, SubWorkCenter, LastModifiedDate_Date and LastModifiedDate_Hour and count the number of BoardId\n",
    "step4df = step3df.groupBy(\"ItemId\", \"SubWorkCenter\", \"LastModifiedDate_Date\",\"LastModifiedDate_Hour\").agg(F.count(\"BoardId\"))"
   ]
  },
  {
   "cell_type": "code",
   "execution_count": 11,
   "id": "9b9dc0de",
   "metadata": {},
   "outputs": [
    {
     "name": "stdout",
     "output_type": "stream",
     "text": [
      "5987 5\n",
      "+--------------------+-------------+---------------------+---------------------+--------------+\n",
      "|              ItemId|SubWorkCenter|LastModifiedDate_Date|LastModifiedDate_Hour|count(BoardId)|\n",
      "+--------------------+-------------+---------------------+---------------------+--------------+\n",
      "|Items-EE-07197264-UK|      EE-0001|                    1|                   19|             8|\n",
      "|Items-BC-03055426-CH|      BC-0001|                    1|                   11|             3|\n",
      "|Items-EP-03621157-BR|      EP-0001|                    2|                   10|             4|\n",
      "|Items-EE-03921377-JP|      EE-0001|                    1|                   22|             5|\n",
      "|Items-TS-00689461-BR|      TS-0001|                    2|                    0|             2|\n",
      "|Items-TS-01948203-UK|      TS-0001|                    1|                   20|             9|\n",
      "|Items-EP-04536209-JP|      EP-0001|                    1|                   14|             6|\n",
      "|Items-EP-04536209-JP|      EP-0001|                    2|                    1|             4|\n",
      "|Items-SB-03591404-JP|      SB-0001|                    2|                   11|            12|\n",
      "|Items-SB-00509063-CH|      SB-0001|                    2|                   19|            35|\n",
      "|Items-EE-01947410-JP|      EE-0001|                    2|                   12|            25|\n",
      "|Items-SB-02355705-UK|      SB-0001|                    2|                   16|             5|\n",
      "|Items-TS-06879613-JP|      TS-0001|                    1|                   22|             1|\n",
      "|Items-TS-00223294-BR|      TS-0001|                    1|                   23|             9|\n",
      "|Items-SB-07090191-UK|      SB-0001|                    1|                   19|            17|\n",
      "|Items-EE-01947410-JP|      EE-0001|                    2|                    0|             8|\n",
      "|Items-TS-05745797-BR|      TS-0001|                    2|                   16|            17|\n",
      "|Items-EP-04737482-IN|      EP-0001|                    2|                   20|             9|\n",
      "|Items-TS-02922392-CH|      TS-0001|                    3|                   12|            31|\n",
      "|Items-EE-07197264-UK|      EE-0001|                    1|                   20|            17|\n",
      "+--------------------+-------------+---------------------+---------------------+--------------+\n",
      "only showing top 20 rows\n",
      "\n"
     ]
    }
   ],
   "source": [
    "num_rows = step4df.count()\n",
    "num_cols = len(step4df.columns)\n",
    "print(num_rows,num_cols)\n",
    "step4df.show()"
   ]
  },
  {
   "cell_type": "code",
   "execution_count": 12,
   "id": "e89ec9af",
   "metadata": {},
   "outputs": [],
   "source": [
    "df = spark.read.csv(\"../3_STORAGE_LAYER/DATALAKEHOUSE_BRONZE_LAYER/plantshift.csv\", header=True, inferSchema=True)\n",
    "# Extract hour and day from the timestamp and add them as new columns\n",
    "df = df.withColumn(\"Hour_Hour\", hour(to_timestamp(\"Hour\", \"yyyy-MM-dd HH:mm:ss\")))\n",
    "df = df.withColumn(\"Date_Date\", dayofmonth(to_timestamp(\"Date\", \"yyyy-MM-dd\")))\n",
    "\n",
    "# rename columns to match with the columns of step4df\n",
    "df = df.withColumnRenamed(\"ItemNo\", \"ItemId\")\n",
    "df = df.withColumnRenamed(\"Station\", \"SubWorkCenter\")\n",
    "df = df.withColumnRenamed(\"Hour_Hour\", \"LastModifiedDate_Hour\")\n",
    "df = df.withColumnRenamed(\"Date_Date\", \"LastModifiedDate_Date\")\n",
    "\n",
    "# Use the join method to combine the data on the common columns\n",
    "step5df = step4df.join(df, \n",
    "                      on=['ItemId', 'SubWorkCenter', 'LastModifiedDate_Hour', 'LastModifiedDate_Date'] , \n",
    "                      how='inner') "
   ]
  },
  {
   "cell_type": "code",
   "execution_count": 13,
   "id": "60a0a68a",
   "metadata": {},
   "outputs": [
    {
     "name": "stdout",
     "output_type": "stream",
     "text": [
      "2369 18\n",
      "+--------------------+-------------+---------------------+---------------------+--------------+---+-------------------+-----+-------------------+--------+---------------+-------+----------+-------------------+---------+-----------+-------+--------+\n",
      "|              ItemId|SubWorkCenter|LastModifiedDate_Hour|LastModifiedDate_Date|count(BoardId)| ID|               Date|Shift|               Hour|Quantity|     LineLeader|    Bay|DivisionId|   CreationDateTime|BreakTime|WorkOrderId|Company|Division|\n",
      "+--------------------+-------------+---------------------+---------------------+--------------+---+-------------------+-----+-------------------+--------+---------------+-------+----------+-------------------+---------+-----------+-------+--------+\n",
      "|Items-SB-03591404-JP|      SB-0001|                   11|                    2|            12|513|2022-06-02 00:00:00|    G|1900-01-01 11:00:00|      23|SB_LineLeader_1|SB-0001|         3|2022-06-02 03:02:00|        0|   W-472205|   null|    null|\n",
      "|Items-SB-03591404-JP|      SB-0001|                   11|                    2|            12|294|2022-06-02 00:00:00|    G|1900-01-01 11:00:00|      23|SB_LineLeader_1|SB-0001|         3|2022-06-02 11:04:00|       30|   W-389480|   null|    null|\n",
      "|Items-EE-01947410-JP|      EE-0001|                   12|                    2|            25|377|2022-06-02 00:00:00|    G|1900-01-01 12:00:00|      26|EE_LineLeader_1|EE-0001|         4|2022-06-02 11:06:00|       60|   W-205583|   null|    null|\n",
      "|Items-SB-07090191-UK|      SB-0001|                   19|                    1|            17|222|2022-06-01 00:00:00|    G|1900-01-01 19:00:00|      27|SB_LineLeader_1|SB-0001|         3|2022-06-01 06:08:00|       30|   W-881921|   null|    null|\n",
      "|Items-SB-07090191-UK|      SB-0001|                   19|                    1|            17|219|2022-06-01 00:00:00|    G|1900-01-01 19:00:00|      27|SB_LineLeader_1|SB-0001|         3|2022-06-01 06:02:00|       30|   W-881921|   null|    null|\n",
      "|Items-TS-05745797-BR|      TS-0001|                   16|                    2|            17|445|2022-06-02 00:00:00|    G|1900-01-01 16:00:00|      48|TS_LineLeader_1|TS-0001|         2|2022-06-02 03:08:00|       60|   W-514549|   null|    null|\n",
      "|Items-EP-04737482-IN|      EP-0001|                   20|                    2|             9|471|2022-06-02 00:00:00|    G|1900-01-01 20:00:00|      24|EP_LineLeader_1|EP-0001|         1|2022-06-02 03:06:00|        0|   W-874601|   null|    null|\n",
      "|Items-EP-04737482-IN|      EP-0001|                   20|                    2|             9|469|2022-06-02 00:00:00|    G|1900-01-01 20:00:00|      23|EP_LineLeader_1|EP-0001|         1|2022-06-02 03:02:00|        0|   W-874601|   null|    null|\n",
      "|Items-TS-02922392-CH|      TS-0001|                   12|                    3|            31|800|2022-06-03 00:00:00|    G|1900-01-01 12:00:00|      44|TS_LineLeader_1|TS-0001|         2|2022-06-03 05:04:00|       60|   W-652227|   null|    null|\n",
      "|Items-TS-02922392-CH|      TS-0001|                   12|                    3|            31|799|2022-06-03 00:00:00|    G|1900-01-01 12:00:00|      44|TS_LineLeader_1|TS-0001|         2|2022-06-03 05:02:00|        0|   W-652227|   null|    null|\n",
      "|Items-TS-02922392-CH|      TS-0001|                   12|                    3|            31|648|2022-06-03 00:00:00|    G|1900-01-01 12:00:00|      38|TS_LineLeader_1|TS-0001|         2|2022-06-03 06:02:00|        0|   W-485233|   null|    null|\n",
      "|Items-EE-07197264-UK|      EE-0001|                   20|                    1|            17|  9|2022-06-01 00:00:00|    G|1900-01-01 20:00:00|      22|EE_LineLeader_1|EE-0001|         4|2022-06-01 21:18:00|       60|   W-749816|   null|    null|\n",
      "|Items-EE-07197264-UK|      EE-0001|                   20|                    1|            17|  8|2022-06-01 00:00:00|    G|1900-01-01 20:00:00|      22|EE_LineLeader_1|EE-0001|         4|2022-06-01 21:16:00|        0|   W-749816|   null|    null|\n",
      "|Items-EE-07197264-UK|      EE-0001|                   20|                    1|            17|  7|2022-06-01 00:00:00|    G|1900-01-01 20:00:00|      22|EE_LineLeader_1|EE-0001|         4|2022-06-01 21:14:00|       60|   W-749816|   null|    null|\n",
      "|Items-EE-07197264-UK|      EE-0001|                   20|                    1|            17|  2|2022-06-01 00:00:00|    G|1900-01-01 20:00:00|      21|EE_LineLeader_1|EE-0001|         4|2022-06-01 21:04:00|        0|   W-749816|   null|    null|\n",
      "|Items-EE-04264866-BR|      EE-0001|                   20|                    1|            12| 37|2022-06-01 00:00:00|    G|1900-01-01 20:00:00|      41|EE_LineLeader_1|EE-0001|         4|2022-06-01 21:06:00|       60|   W-685524|   null|    null|\n",
      "|Items-EE-08274581-US|      EE-0001|                   15|                    1|            13| 64|2022-06-01 00:00:00|    G|1900-01-01 15:00:00|      20|EE_LineLeader_1|EE-0001|         4|2022-06-01 21:16:00|       30|   W-287757|   null|    null|\n",
      "|Items-TS-04419885-CH|      TS-0001|                   19|                    1|             5| 75|2022-06-01 00:00:00|    G|1900-01-01 19:00:00|      21|TS_LineLeader_1|TS-0001|         2|2022-06-01 21:16:00|        0|   W-826468|   null|    null|\n",
      "|Items-BC-07313892-JP|      BC-0001|                   10|                    1|            13| 93|2022-06-01 00:00:00|    G|1900-01-01 10:00:00|      32|BC_LineLeader_1|BC-0001|         5|2022-06-01 21:12:00|       60|   W-994063|   null|    null|\n",
      "|Items-EP-06020496-CH|      EP-0001|                   17|                    1|            14|193|2022-06-01 00:00:00|    G|1900-01-01 17:00:00|      50|EP_LineLeader_1|EP-0001|         1|2022-06-01 06:04:00|       30|   W-891903|   null|    null|\n",
      "+--------------------+-------------+---------------------+---------------------+--------------+---+-------------------+-----+-------------------+--------+---------------+-------+----------+-------------------+---------+-----------+-------+--------+\n",
      "only showing top 20 rows\n",
      "\n"
     ]
    }
   ],
   "source": [
    "num_rows = step5df.count()\n",
    "num_cols = len(step5df.columns)\n",
    "print(num_rows,num_cols)\n",
    "step5df.show()"
   ]
  },
  {
   "cell_type": "code",
   "execution_count": 14,
   "id": "2bb83825",
   "metadata": {},
   "outputs": [
    {
     "name": "stdout",
     "output_type": "stream",
     "text": [
      "99 12\n",
      "+----+--------------------+--------+--------+-------+----------------+--------------------+---------+--------------+----+-------------+----------+\n",
      "|  ID|         Description|Modality|Revision|BaseUOM|Batch_Management|SerialNumber_Profile|ShelfLife|ShelfLife_Date| MSD|Item_Category|MSLDetails|\n",
      "+----+--------------------+--------+--------+-------+----------------+--------------------+---------+--------------+----+-------------+----------+\n",
      "|C530|Items-SB-06861728-JP|      SB|    None|   None|            None| 03/01/2023 35:19:32|     None|          None|None|        SB_JP|      None|\n",
      "|C541|Items-EE-04270935-CH|      EE|    None|   None|            None| 03/01/2023 35:19:32|     None|          None|None|        EE_CH|      None|\n",
      "|C749|Items-EP-02565413-IN|      EP|    None|   None|            None| 2023-01-03 35:19:32|     None|          None|None|        EP_IN|      None|\n",
      "|C990|Items-BC-06949570-JP|      BC|    None|   None|            None| 2023-01-03 35:19:32|     None|          None|None|        BC_JP|      None|\n",
      "|C828|Items-BC-02610967-US|      BC|    None|   None|            None|   20230103 35-19-32|     None|          None|None|        BC_US|      None|\n",
      "|C806|Items-TS-06064368-US|      TS|    None|   None|            None| 2023-01-03 35:19:32|     None|          None|None|        TS_US|      None|\n",
      "|C995|Items-SB-02330381-US|      SB|    None|   None|            None|   20230103 35-19-32|     None|          None|None|        SB_US|      None|\n",
      "|C191|Items-BC-03358366-US|      BC|    None|   None|            None| 2023-01-03 19:35:32|     None|          None|None|        BC_US|      None|\n",
      "|C451|Items-EP-08791802-BR|      EP|    None|   None|            None| 03/01/2023 35:19:32|     None|          None|None|        EP_BR|      None|\n",
      "|C383|Items-EP-03621157-BR|      EP|    None|   None|            None| 03/01/2023 35:19:32|     None|          None|None|        EP_BR|      None|\n",
      "|C465|Items-BC-03055426-CH|      BC|    None|   None|            None| 2023-01-03 19:35:32|     None|          None|None|        BC_CH|      None|\n",
      "|C323|Items-TS-02922392-CH|      TS|    None|   None|            None| 2023-01-03 35:19:32|     None|          None|None|        TS_CH|      None|\n",
      "|C125|Items-TS-05745797-BR|      TS|    None|   None|            None| 03/01/2023 35:19:32|     None|          None|None|        TS_BR|      None|\n",
      "|C549|Items-EP-03052349-BR|      EP|    None|   None|            None| 03/01/2023 35:19:32|     None|          None|None|        EP_BR|      None|\n",
      "|C901|Items-EE-08274581-US|      EE|    None|   None|            None| 2023-01-03 35:19:32|     None|          None|None|        EE_US|      None|\n",
      "|C316|Items-BC-06673555-BR|      BC|    None|   None|            None|   20230103 35-19-32|     None|          None|None|        BC_BR|      None|\n",
      "|C559|Items-SB-01922836-JP|      SB|    None|   None|            None| 2023-01-03 19:35:32|     None|          None|None|        SB_JP|      None|\n",
      "|C922|Items-EE-02425548-JP|      EE|    None|   None|            None| 03/01/2023 35:19:32|     None|          None|None|        EE_JP|      None|\n",
      "|C268|Items-BC-09230895-CH|      BC|    None|   None|            None|   20230103 35-19-32|     None|          None|None|        BC_CH|      None|\n",
      "|C505|Items-SB-07543853-UK|      SB|    None|   None|            None| 2023-01-03 19:35:32|     None|          None|None|        SB_UK|      None|\n",
      "+----+--------------------+--------+--------+-------+----------------+--------------------+---------+--------------+----+-------------+----------+\n",
      "only showing top 20 rows\n",
      "\n"
     ]
    }
   ],
   "source": [
    "itemsdf = spark.read.csv(\"../3_STORAGE_LAYER/DATALAKEHOUSE_BRONZE_LAYER/items.csv\", header=True, inferSchema=True)\n",
    "num_rows = itemsdf.count()\n",
    "num_cols = len(itemsdf.columns)\n",
    "print(num_rows,num_cols)\n",
    "itemsdf.show()"
   ]
  },
  {
   "cell_type": "code",
   "execution_count": 15,
   "id": "3b3dd9ff",
   "metadata": {},
   "outputs": [
    {
     "name": "stdout",
     "output_type": "stream",
     "text": [
      "['ID']\n"
     ]
    }
   ],
   "source": [
    "# find common columns\n",
    "items_columns = itemsdf.columns\n",
    "step5_columns = step5df.columns\n",
    "common_columns = list(set(items_columns).intersection(step5_columns))\n",
    "print(common_columns)\n",
    "# find common columns\n",
    "itemsdf= itemsdf.drop(*common_columns)"
   ]
  },
  {
   "cell_type": "code",
   "execution_count": 16,
   "id": "c8872d2b",
   "metadata": {},
   "outputs": [],
   "source": [
    "step6df = step5df.join(itemsdf, step5df.ItemId == itemsdf.Description, \"left\")"
   ]
  },
  {
   "cell_type": "code",
   "execution_count": 17,
   "id": "3fb6d39e",
   "metadata": {},
   "outputs": [
    {
     "data": {
      "text/plain": [
       "DataFrame[ItemId: string, SubWorkCenter: string, LastModifiedDate_Hour: int, LastModifiedDate_Date: int, count(BoardId): bigint, ID: int, Date: timestamp, Shift: string, Hour: timestamp, Quantity: int, LineLeader: string, Bay: string, DivisionId: int, CreationDateTime: timestamp, BreakTime: int, WorkOrderId: string, Company: string, Division: string, Description: string, Modality: string, Revision: string, BaseUOM: string, Batch_Management: string, SerialNumber_Profile: string, ShelfLife: string, ShelfLife_Date: string, MSD: string, Item_Category: string, MSLDetails: string]"
      ]
     },
     "execution_count": 17,
     "metadata": {},
     "output_type": "execute_result"
    }
   ],
   "source": [
    "step6df"
   ]
  },
  {
   "cell_type": "code",
   "execution_count": 18,
   "id": "95572a5d",
   "metadata": {},
   "outputs": [
    {
     "name": "stdout",
     "output_type": "stream",
     "text": [
      "2369 29\n",
      "+--------------------+-------------+---------------------+---------------------+--------------+---+-------------------+-----+-------------------+--------+---------------+-------+----------+-------------------+---------+-----------+-------+--------+--------------------+--------+--------+-------+----------------+--------------------+---------+--------------+----+-------------+----------+\n",
      "|              ItemId|SubWorkCenter|LastModifiedDate_Hour|LastModifiedDate_Date|count(BoardId)| ID|               Date|Shift|               Hour|Quantity|     LineLeader|    Bay|DivisionId|   CreationDateTime|BreakTime|WorkOrderId|Company|Division|         Description|Modality|Revision|BaseUOM|Batch_Management|SerialNumber_Profile|ShelfLife|ShelfLife_Date| MSD|Item_Category|MSLDetails|\n",
      "+--------------------+-------------+---------------------+---------------------+--------------+---+-------------------+-----+-------------------+--------+---------------+-------+----------+-------------------+---------+-----------+-------+--------+--------------------+--------+--------+-------+----------------+--------------------+---------+--------------+----+-------------+----------+\n",
      "|Items-SB-03591404-JP|      SB-0001|                   11|                    2|            12|513|2022-06-02 00:00:00|    G|1900-01-01 11:00:00|      23|SB_LineLeader_1|SB-0001|         3|2022-06-02 03:02:00|        0|   W-472205|   null|    null|Items-SB-03591404-JP|      SB|    None|   None|            None| 03/01/2023 35:19:32|     None|          None|None|        SB_JP|      None|\n",
      "|Items-SB-03591404-JP|      SB-0001|                   11|                    2|            12|294|2022-06-02 00:00:00|    G|1900-01-01 11:00:00|      23|SB_LineLeader_1|SB-0001|         3|2022-06-02 11:04:00|       30|   W-389480|   null|    null|Items-SB-03591404-JP|      SB|    None|   None|            None| 03/01/2023 35:19:32|     None|          None|None|        SB_JP|      None|\n",
      "|Items-EE-01947410-JP|      EE-0001|                   12|                    2|            25|377|2022-06-02 00:00:00|    G|1900-01-01 12:00:00|      26|EE_LineLeader_1|EE-0001|         4|2022-06-02 11:06:00|       60|   W-205583|   null|    null|Items-EE-01947410-JP|      EE|    None|   None|            None| 03/01/2023 35:19:32|     None|          None|None|        EE_JP|      None|\n",
      "|Items-SB-07090191-UK|      SB-0001|                   19|                    1|            17|222|2022-06-01 00:00:00|    G|1900-01-01 19:00:00|      27|SB_LineLeader_1|SB-0001|         3|2022-06-01 06:08:00|       30|   W-881921|   null|    null|Items-SB-07090191-UK|      SB|    None|   None|            None| 2023-01-03 19:35:32|     None|          None|None|        SB_UK|      None|\n",
      "|Items-SB-07090191-UK|      SB-0001|                   19|                    1|            17|219|2022-06-01 00:00:00|    G|1900-01-01 19:00:00|      27|SB_LineLeader_1|SB-0001|         3|2022-06-01 06:02:00|       30|   W-881921|   null|    null|Items-SB-07090191-UK|      SB|    None|   None|            None| 2023-01-03 19:35:32|     None|          None|None|        SB_UK|      None|\n",
      "|Items-TS-05745797-BR|      TS-0001|                   16|                    2|            17|445|2022-06-02 00:00:00|    G|1900-01-01 16:00:00|      48|TS_LineLeader_1|TS-0001|         2|2022-06-02 03:08:00|       60|   W-514549|   null|    null|Items-TS-05745797-BR|      TS|    None|   None|            None| 03/01/2023 35:19:32|     None|          None|None|        TS_BR|      None|\n",
      "|Items-EP-04737482-IN|      EP-0001|                   20|                    2|             9|471|2022-06-02 00:00:00|    G|1900-01-01 20:00:00|      24|EP_LineLeader_1|EP-0001|         1|2022-06-02 03:06:00|        0|   W-874601|   null|    null|Items-EP-04737482-IN|      EP|    None|   None|            None| 2023-01-03 19:35:32|     None|          None|None|        EP_IN|      None|\n",
      "|Items-EP-04737482-IN|      EP-0001|                   20|                    2|             9|469|2022-06-02 00:00:00|    G|1900-01-01 20:00:00|      23|EP_LineLeader_1|EP-0001|         1|2022-06-02 03:02:00|        0|   W-874601|   null|    null|Items-EP-04737482-IN|      EP|    None|   None|            None| 2023-01-03 19:35:32|     None|          None|None|        EP_IN|      None|\n",
      "|Items-TS-02922392-CH|      TS-0001|                   12|                    3|            31|800|2022-06-03 00:00:00|    G|1900-01-01 12:00:00|      44|TS_LineLeader_1|TS-0001|         2|2022-06-03 05:04:00|       60|   W-652227|   null|    null|Items-TS-02922392-CH|      TS|    None|   None|            None| 2023-01-03 35:19:32|     None|          None|None|        TS_CH|      None|\n",
      "|Items-TS-02922392-CH|      TS-0001|                   12|                    3|            31|799|2022-06-03 00:00:00|    G|1900-01-01 12:00:00|      44|TS_LineLeader_1|TS-0001|         2|2022-06-03 05:02:00|        0|   W-652227|   null|    null|Items-TS-02922392-CH|      TS|    None|   None|            None| 2023-01-03 35:19:32|     None|          None|None|        TS_CH|      None|\n",
      "|Items-TS-02922392-CH|      TS-0001|                   12|                    3|            31|648|2022-06-03 00:00:00|    G|1900-01-01 12:00:00|      38|TS_LineLeader_1|TS-0001|         2|2022-06-03 06:02:00|        0|   W-485233|   null|    null|Items-TS-02922392-CH|      TS|    None|   None|            None| 2023-01-03 35:19:32|     None|          None|None|        TS_CH|      None|\n",
      "|Items-EE-07197264-UK|      EE-0001|                   20|                    1|            17|  9|2022-06-01 00:00:00|    G|1900-01-01 20:00:00|      22|EE_LineLeader_1|EE-0001|         4|2022-06-01 21:18:00|       60|   W-749816|   null|    null|Items-EE-07197264-UK|      EE|    None|   None|            None| 2023-01-03 35:19:32|     None|          None|None|        EE_UK|      None|\n",
      "|Items-EE-07197264-UK|      EE-0001|                   20|                    1|            17|  8|2022-06-01 00:00:00|    G|1900-01-01 20:00:00|      22|EE_LineLeader_1|EE-0001|         4|2022-06-01 21:16:00|        0|   W-749816|   null|    null|Items-EE-07197264-UK|      EE|    None|   None|            None| 2023-01-03 35:19:32|     None|          None|None|        EE_UK|      None|\n",
      "|Items-EE-07197264-UK|      EE-0001|                   20|                    1|            17|  7|2022-06-01 00:00:00|    G|1900-01-01 20:00:00|      22|EE_LineLeader_1|EE-0001|         4|2022-06-01 21:14:00|       60|   W-749816|   null|    null|Items-EE-07197264-UK|      EE|    None|   None|            None| 2023-01-03 35:19:32|     None|          None|None|        EE_UK|      None|\n",
      "|Items-EE-07197264-UK|      EE-0001|                   20|                    1|            17|  2|2022-06-01 00:00:00|    G|1900-01-01 20:00:00|      21|EE_LineLeader_1|EE-0001|         4|2022-06-01 21:04:00|        0|   W-749816|   null|    null|Items-EE-07197264-UK|      EE|    None|   None|            None| 2023-01-03 35:19:32|     None|          None|None|        EE_UK|      None|\n",
      "|Items-EE-04264866-BR|      EE-0001|                   20|                    1|            12| 37|2022-06-01 00:00:00|    G|1900-01-01 20:00:00|      41|EE_LineLeader_1|EE-0001|         4|2022-06-01 21:06:00|       60|   W-685524|   null|    null|Items-EE-04264866-BR|      EE|    None|   None|            None| 03/01/2023 35:19:32|     None|          None|None|        EE_BR|      None|\n",
      "|Items-EE-08274581-US|      EE-0001|                   15|                    1|            13| 64|2022-06-01 00:00:00|    G|1900-01-01 15:00:00|      20|EE_LineLeader_1|EE-0001|         4|2022-06-01 21:16:00|       30|   W-287757|   null|    null|Items-EE-08274581-US|      EE|    None|   None|            None| 2023-01-03 35:19:32|     None|          None|None|        EE_US|      None|\n",
      "|Items-TS-04419885-CH|      TS-0001|                   19|                    1|             5| 75|2022-06-01 00:00:00|    G|1900-01-01 19:00:00|      21|TS_LineLeader_1|TS-0001|         2|2022-06-01 21:16:00|        0|   W-826468|   null|    null|Items-TS-04419885-CH|      TS|    None|   None|            None| 03/01/2023 35:19:32|     None|          None|None|        TS_CH|      None|\n",
      "|Items-BC-07313892-JP|      BC-0001|                   10|                    1|            13| 93|2022-06-01 00:00:00|    G|1900-01-01 10:00:00|      32|BC_LineLeader_1|BC-0001|         5|2022-06-01 21:12:00|       60|   W-994063|   null|    null|Items-BC-07313892-JP|      BC|    None|   None|            None|   20230103 35-19-32|     None|          None|None|        BC_JP|      None|\n",
      "|Items-EP-06020496-CH|      EP-0001|                   17|                    1|            14|193|2022-06-01 00:00:00|    G|1900-01-01 17:00:00|      50|EP_LineLeader_1|EP-0001|         1|2022-06-01 06:04:00|       30|   W-891903|   null|    null|Items-EP-06020496-CH|      EP|    None|   None|            None| 2023-01-03 19:35:32|     None|          None|None|        EP_CH|      None|\n",
      "+--------------------+-------------+---------------------+---------------------+--------------+---+-------------------+-----+-------------------+--------+---------------+-------+----------+-------------------+---------+-----------+-------+--------+--------------------+--------+--------+-------+----------------+--------------------+---------+--------------+----+-------------+----------+\n",
      "only showing top 20 rows\n",
      "\n"
     ]
    }
   ],
   "source": [
    "num_rows = step6df.count()\n",
    "num_cols = len(step6df.columns)\n",
    "print(num_rows,num_cols)\n",
    "step6df.show()"
   ]
  },
  {
   "cell_type": "code",
   "execution_count": null,
   "id": "95126bcf",
   "metadata": {},
   "outputs": [],
   "source": []
  },
  {
   "cell_type": "code",
   "execution_count": 19,
   "id": "013992ca",
   "metadata": {},
   "outputs": [],
   "source": [
    "#step6df.write.csv(\"../4_METADATA_LAYER/LAKEHOUSE_SILVER_LAYER/step6.csv\")"
   ]
  },
  {
   "cell_type": "code",
   "execution_count": 24,
   "id": "bb173cb0",
   "metadata": {},
   "outputs": [],
   "source": [
    "import pandas as pd\n",
    "# Enable Arrow-based columnar data transfers\n",
    "spark.conf.set(\"spark.sql.execution.arrow.enabled\", \"true\")\n",
    "step6df = step6df.toPandas()"
   ]
  },
  {
   "cell_type": "code",
   "execution_count": 27,
   "id": "e861d830",
   "metadata": {},
   "outputs": [],
   "source": [
    "step6df.to_csv(\"step6.csv\")"
   ]
  },
  {
   "cell_type": "code",
   "execution_count": null,
   "id": "52ff411a",
   "metadata": {},
   "outputs": [],
   "source": []
  }
 ],
 "metadata": {
  "kernelspec": {
   "display_name": "Python 3 (ipykernel)",
   "language": "python",
   "name": "python3"
  },
  "language_info": {
   "codemirror_mode": {
    "name": "ipython",
    "version": 3
   },
   "file_extension": ".py",
   "mimetype": "text/x-python",
   "name": "python",
   "nbconvert_exporter": "python",
   "pygments_lexer": "ipython3",
   "version": "3.9.13"
  }
 },
 "nbformat": 4,
 "nbformat_minor": 5
}
