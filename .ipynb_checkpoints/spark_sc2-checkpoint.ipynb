{
 "cells": [
  {
   "cell_type": "code",
   "execution_count": 2,
   "id": "42e7215d",
   "metadata": {},
   "outputs": [
    {
     "name": "stderr",
     "output_type": "stream",
     "text": [
      "                                                                                \r"
     ]
    }
   ],
   "source": [
    "from pyspark.sql import SparkSession\n",
    "\n",
    "spark = SparkSession.builder.appName(\"Read CSV\").getOrCreate()\n",
    "\n",
    "item = spark.read.format(\"csv\").option(\"header\", \"true\").load(\"LAKEHOUSE_SILVER_LAYER/items1.csv\")\n",
    "prod = spark.read.format(\"csv\").option(\"header\", \"true\").load(\"LAKEHOUSE_SILVER_LAYER/production.csv\")\n",
    "warehouse = spark.read.format(\"csv\").option(\"header\", \"true\").load(\"LAKEHOUSE_SILVER_LAYER/warehouse.csv\")"
   ]
  },
  {
   "cell_type": "code",
   "execution_count": null,
   "id": "aa173891",
   "metadata": {},
   "outputs": [],
   "source": []
  }
 ],
 "metadata": {
  "kernelspec": {
   "display_name": "Python 3 (ipykernel)",
   "language": "python",
   "name": "python3"
  },
  "language_info": {
   "codemirror_mode": {
    "name": "ipython",
    "version": 3
   },
   "file_extension": ".py",
   "mimetype": "text/x-python",
   "name": "python",
   "nbconvert_exporter": "python",
   "pygments_lexer": "ipython3",
   "version": "3.11.1"
  }
 },
 "nbformat": 4,
 "nbformat_minor": 5
}
