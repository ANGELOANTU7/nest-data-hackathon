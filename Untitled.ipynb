{
 "cells": [
  {
   "cell_type": "code",
   "execution_count": 2,
   "id": "82f0b11c",
   "metadata": {},
   "outputs": [],
   "source": [
    "import findspark\n",
    "findspark.init()\n",
    "\n",
    "from pyspark.sql import SparkSession\n",
    "\n",
    "spark=SparkSession.builder.appName('data').getOrCreate()"
   ]
  },
  {
   "cell_type": "code",
   "execution_count": 3,
   "id": "99e02714",
   "metadata": {},
   "outputs": [],
   "source": [
    "df=spark.read.csv('data.csv',inferSchema=True,header=True)"
   ]
  },
  {
   "cell_type": "code",
   "execution_count": 4,
   "id": "d168440d",
   "metadata": {},
   "outputs": [
    {
     "data": {
      "text/plain": [
       "['rollno', 'temp', 'hum', 'moisture', 'grade']"
      ]
     },
     "execution_count": 4,
     "metadata": {},
     "output_type": "execute_result"
    }
   ],
   "source": [
    "df.columns"
   ]
  },
  {
   "cell_type": "code",
   "execution_count": 5,
   "id": "48aef232",
   "metadata": {},
   "outputs": [
    {
     "data": {
      "text/plain": [
       "Row(rollno=1, temp=24, hum=73, moisture=80, grade=3)"
      ]
     },
     "execution_count": 5,
     "metadata": {},
     "output_type": "execute_result"
    }
   ],
   "source": [
    "df.head()"
   ]
  },
  {
   "cell_type": "code",
   "execution_count": 6,
   "id": "f31d91f2",
   "metadata": {},
   "outputs": [
    {
     "name": "stdout",
     "output_type": "stream",
     "text": [
      "Row(rollno=1, temp=24, hum=73, moisture=80, grade=3) \n",
      "\n",
      "Row(rollno=2, temp=25, hum=75, moisture=81, grade=4) \n",
      "\n",
      "Row(rollno=3, temp=26, hum=74, moisture=82, grade=5) \n",
      "\n",
      "Row(rollno=4, temp=23, hum=72, moisture=80, grade=2) \n",
      "\n",
      "Row(rollno=5, temp=21, hum=71, moisture=83, grade=1) \n",
      "\n"
     ]
    }
   ],
   "source": [
    "for line in df.head(5):\n",
    "    print(line,'\\n')"
   ]
  },
  {
   "cell_type": "code",
   "execution_count": 7,
   "id": "f78bc153",
   "metadata": {},
   "outputs": [
    {
     "name": "stdout",
     "output_type": "stream",
     "text": [
      "+-------+-----------------+------------------+------------------+-----------------+------------------+\n",
      "|summary|           rollno|              temp|               hum|         moisture|             grade|\n",
      "+-------+-----------------+------------------+------------------+-----------------+------------------+\n",
      "|  count|                7|                 7|                 7|                7|                 7|\n",
      "|   mean|              4.0|23.857142857142858| 72.85714285714286|             81.0| 3.142857142857143|\n",
      "| stddev|2.160246899469287|2.3401261667248794|1.9518001458970664|1.154700538379252|1.5735915849388864|\n",
      "|    min|                1|                21|                70|               80|                 1|\n",
      "|    max|                7|                27|                75|               83|                 5|\n",
      "+-------+-----------------+------------------+------------------+-----------------+------------------+\n",
      "\n"
     ]
    }
   ],
   "source": [
    "df.describe().show()"
   ]
  },
  {
   "cell_type": "code",
   "execution_count": 10,
   "id": "817a7b4f",
   "metadata": {},
   "outputs": [
    {
     "name": "stdout",
     "output_type": "stream",
     "text": [
      "+-------+-----+\n",
      "|summary| Temp|\n",
      "+-------+-----+\n",
      "|  count| 7.00|\n",
      "|   mean|23.86|\n",
      "| stddev| 2.34|\n",
      "|    min|21.00|\n",
      "|    max|27.00|\n",
      "+-------+-----+\n",
      "\n"
     ]
    }
   ],
   "source": [
    "from pyspark.sql.functions import format_number\n",
    "\n",
    "summary=df.describe()\n",
    "summary.select(summary['summary'],\n",
    "              format_number(summary['Temp'].cast('float'),2).alias('Temp')).show()"
   ]
  },
  {
   "cell_type": "code",
   "execution_count": 11,
   "id": "67384c39",
   "metadata": {},
   "outputs": [
    {
     "data": {
      "text/plain": [
       "-0.3700763728463761"
      ]
     },
     "execution_count": 11,
     "metadata": {},
     "output_type": "execute_result"
    }
   ],
   "source": [
    "df.corr('Temp','Moisture')"
   ]
  },
  {
   "cell_type": "code",
   "execution_count": null,
   "id": "ce0fb04b",
   "metadata": {},
   "outputs": [],
   "source": [
    "from pyspark.sql.functions import corr\n",
    "df.select(corr(df['High']))"
   ]
  }
 ],
 "metadata": {
  "kernelspec": {
   "display_name": "Python 3 (ipykernel)",
   "language": "python",
   "name": "python3"
  },
  "language_info": {
   "codemirror_mode": {
    "name": "ipython",
    "version": 3
   },
   "file_extension": ".py",
   "mimetype": "text/x-python",
   "name": "python",
   "nbconvert_exporter": "python",
   "pygments_lexer": "ipython3",
   "version": "3.10.0"
  }
 },
 "nbformat": 4,
 "nbformat_minor": 5
}
